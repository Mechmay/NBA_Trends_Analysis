{
  "nbformat": 4,
  "nbformat_minor": 0,
  "metadata": {
    "kernelspec": {
      "display_name": "Python 3",
      "language": "python",
      "name": "python3"
    },
    "language_info": {
      "codemirror_mode": {
        "name": "ipython",
        "version": 3
      },
      "file_extension": ".py",
      "mimetype": "text/x-python",
      "name": "python",
      "nbconvert_exporter": "python",
      "pygments_lexer": "ipython3",
      "version": "3.7.7"
    },
    "colab": {
      "name": "NBA_Trends.ipynb",
      "provenance": []
    }
  },
  "cells": [
    {
      "cell_type": "code",
      "metadata": {
        "id": "MYYuka-g-hia"
      },
      "source": [
        "import numpy as np\n",
        "import pandas as pd\n",
        "from scipy.stats import pearsonr, chi2_contingency\n",
        "import matplotlib.pyplot as plt\n",
        "import seaborn as sns"
      ],
      "execution_count": null,
      "outputs": []
    },
    {
      "cell_type": "code",
      "metadata": {
        "id": "WJVcjs8g-hic",
        "outputId": "64448544-26bf-4922-cd02-94716764cef8"
      },
      "source": [
        "np.set_printoptions(suppress=True, precision = 2)\n",
        "\n",
        "nba = pd.read_csv('./nba_games.csv')\n",
        "\n",
        "# Subset Data to 2010 Season, 2014 Season\n",
        "nba_2010 = nba[nba.year_id == 2010]\n",
        "nba_2014 = nba[nba.year_id == 2014]\n",
        "\n",
        "display(nba_2010.head())\n",
        "display(nba_2014.head())"
      ],
      "execution_count": null,
      "outputs": [
        {
          "output_type": "display_data",
          "data": {
            "text/html": [
              "<div>\n",
              "<style scoped>\n",
              "    .dataframe tbody tr th:only-of-type {\n",
              "        vertical-align: middle;\n",
              "    }\n",
              "\n",
              "    .dataframe tbody tr th {\n",
              "        vertical-align: top;\n",
              "    }\n",
              "\n",
              "    .dataframe thead th {\n",
              "        text-align: right;\n",
              "    }\n",
              "</style>\n",
              "<table border=\"1\" class=\"dataframe\">\n",
              "  <thead>\n",
              "    <tr style=\"text-align: right;\">\n",
              "      <th></th>\n",
              "      <th>game_id</th>\n",
              "      <th>year_id</th>\n",
              "      <th>fran_id</th>\n",
              "      <th>opp_fran</th>\n",
              "      <th>game_location</th>\n",
              "      <th>is_playoffs</th>\n",
              "      <th>pts</th>\n",
              "      <th>opp_pts</th>\n",
              "      <th>game_result</th>\n",
              "      <th>forecast</th>\n",
              "      <th>point_diff</th>\n",
              "    </tr>\n",
              "  </thead>\n",
              "  <tbody>\n",
              "    <tr>\n",
              "      <th>21717</th>\n",
              "      <td>200910270CLE</td>\n",
              "      <td>2010</td>\n",
              "      <td>Celtics</td>\n",
              "      <td>Cavaliers</td>\n",
              "      <td>A</td>\n",
              "      <td>0</td>\n",
              "      <td>95</td>\n",
              "      <td>89</td>\n",
              "      <td>W</td>\n",
              "      <td>0.277472</td>\n",
              "      <td>6</td>\n",
              "    </tr>\n",
              "    <tr>\n",
              "      <th>21718</th>\n",
              "      <td>200910280BOS</td>\n",
              "      <td>2010</td>\n",
              "      <td>Celtics</td>\n",
              "      <td>Hornets</td>\n",
              "      <td>H</td>\n",
              "      <td>0</td>\n",
              "      <td>92</td>\n",
              "      <td>59</td>\n",
              "      <td>W</td>\n",
              "      <td>0.814619</td>\n",
              "      <td>33</td>\n",
              "    </tr>\n",
              "    <tr>\n",
              "      <th>21719</th>\n",
              "      <td>200910280MIA</td>\n",
              "      <td>2010</td>\n",
              "      <td>Knicks</td>\n",
              "      <td>Heat</td>\n",
              "      <td>A</td>\n",
              "      <td>0</td>\n",
              "      <td>93</td>\n",
              "      <td>115</td>\n",
              "      <td>L</td>\n",
              "      <td>0.258755</td>\n",
              "      <td>-22</td>\n",
              "    </tr>\n",
              "    <tr>\n",
              "      <th>21720</th>\n",
              "      <td>200910280MIN</td>\n",
              "      <td>2010</td>\n",
              "      <td>Nets</td>\n",
              "      <td>Timberwolves</td>\n",
              "      <td>A</td>\n",
              "      <td>0</td>\n",
              "      <td>93</td>\n",
              "      <td>95</td>\n",
              "      <td>L</td>\n",
              "      <td>0.475155</td>\n",
              "      <td>-2</td>\n",
              "    </tr>\n",
              "    <tr>\n",
              "      <th>21721</th>\n",
              "      <td>200910280OKC</td>\n",
              "      <td>2010</td>\n",
              "      <td>Thunder</td>\n",
              "      <td>Kings</td>\n",
              "      <td>H</td>\n",
              "      <td>0</td>\n",
              "      <td>102</td>\n",
              "      <td>89</td>\n",
              "      <td>W</td>\n",
              "      <td>0.716764</td>\n",
              "      <td>13</td>\n",
              "    </tr>\n",
              "  </tbody>\n",
              "</table>\n",
              "</div>"
            ],
            "text/plain": [
              "            game_id  year_id  fran_id      opp_fran game_location  \\\n",
              "21717  200910270CLE     2010  Celtics     Cavaliers             A   \n",
              "21718  200910280BOS     2010  Celtics       Hornets             H   \n",
              "21719  200910280MIA     2010   Knicks          Heat             A   \n",
              "21720  200910280MIN     2010     Nets  Timberwolves             A   \n",
              "21721  200910280OKC     2010  Thunder         Kings             H   \n",
              "\n",
              "       is_playoffs  pts  opp_pts game_result  forecast  point_diff  \n",
              "21717            0   95       89           W  0.277472           6  \n",
              "21718            0   92       59           W  0.814619          33  \n",
              "21719            0   93      115           L  0.258755         -22  \n",
              "21720            0   93       95           L  0.475155          -2  \n",
              "21721            0  102       89           W  0.716764          13  "
            ]
          },
          "metadata": {
            "tags": []
          }
        },
        {
          "output_type": "display_data",
          "data": {
            "text/html": [
              "<div>\n",
              "<style scoped>\n",
              "    .dataframe tbody tr th:only-of-type {\n",
              "        vertical-align: middle;\n",
              "    }\n",
              "\n",
              "    .dataframe tbody tr th {\n",
              "        vertical-align: top;\n",
              "    }\n",
              "\n",
              "    .dataframe thead th {\n",
              "        text-align: right;\n",
              "    }\n",
              "</style>\n",
              "<table border=\"1\" class=\"dataframe\">\n",
              "  <thead>\n",
              "    <tr style=\"text-align: right;\">\n",
              "      <th></th>\n",
              "      <th>game_id</th>\n",
              "      <th>year_id</th>\n",
              "      <th>fran_id</th>\n",
              "      <th>opp_fran</th>\n",
              "      <th>game_location</th>\n",
              "      <th>is_playoffs</th>\n",
              "      <th>pts</th>\n",
              "      <th>opp_pts</th>\n",
              "      <th>game_result</th>\n",
              "      <th>forecast</th>\n",
              "      <th>point_diff</th>\n",
              "    </tr>\n",
              "  </thead>\n",
              "  <tbody>\n",
              "    <tr>\n",
              "      <th>23468</th>\n",
              "      <td>201310300CLE</td>\n",
              "      <td>2014</td>\n",
              "      <td>Nets</td>\n",
              "      <td>Cavaliers</td>\n",
              "      <td>A</td>\n",
              "      <td>0</td>\n",
              "      <td>94</td>\n",
              "      <td>98</td>\n",
              "      <td>L</td>\n",
              "      <td>0.611981</td>\n",
              "      <td>-4</td>\n",
              "    </tr>\n",
              "    <tr>\n",
              "      <th>23469</th>\n",
              "      <td>201310300NYK</td>\n",
              "      <td>2014</td>\n",
              "      <td>Knicks</td>\n",
              "      <td>Bucks</td>\n",
              "      <td>H</td>\n",
              "      <td>0</td>\n",
              "      <td>90</td>\n",
              "      <td>83</td>\n",
              "      <td>W</td>\n",
              "      <td>0.793150</td>\n",
              "      <td>7</td>\n",
              "    </tr>\n",
              "    <tr>\n",
              "      <th>23470</th>\n",
              "      <td>201310300SAS</td>\n",
              "      <td>2014</td>\n",
              "      <td>Spurs</td>\n",
              "      <td>Grizzlies</td>\n",
              "      <td>H</td>\n",
              "      <td>0</td>\n",
              "      <td>101</td>\n",
              "      <td>94</td>\n",
              "      <td>W</td>\n",
              "      <td>0.692980</td>\n",
              "      <td>7</td>\n",
              "    </tr>\n",
              "    <tr>\n",
              "      <th>23471</th>\n",
              "      <td>201310300TOR</td>\n",
              "      <td>2014</td>\n",
              "      <td>Celtics</td>\n",
              "      <td>Raptors</td>\n",
              "      <td>A</td>\n",
              "      <td>0</td>\n",
              "      <td>87</td>\n",
              "      <td>93</td>\n",
              "      <td>L</td>\n",
              "      <td>0.361233</td>\n",
              "      <td>-6</td>\n",
              "    </tr>\n",
              "    <tr>\n",
              "      <th>23472</th>\n",
              "      <td>201310300UTA</td>\n",
              "      <td>2014</td>\n",
              "      <td>Thunder</td>\n",
              "      <td>Jazz</td>\n",
              "      <td>A</td>\n",
              "      <td>0</td>\n",
              "      <td>101</td>\n",
              "      <td>98</td>\n",
              "      <td>W</td>\n",
              "      <td>0.526056</td>\n",
              "      <td>3</td>\n",
              "    </tr>\n",
              "  </tbody>\n",
              "</table>\n",
              "</div>"
            ],
            "text/plain": [
              "            game_id  year_id  fran_id   opp_fran game_location  is_playoffs  \\\n",
              "23468  201310300CLE     2014     Nets  Cavaliers             A            0   \n",
              "23469  201310300NYK     2014   Knicks      Bucks             H            0   \n",
              "23470  201310300SAS     2014    Spurs  Grizzlies             H            0   \n",
              "23471  201310300TOR     2014  Celtics    Raptors             A            0   \n",
              "23472  201310300UTA     2014  Thunder       Jazz             A            0   \n",
              "\n",
              "       pts  opp_pts game_result  forecast  point_diff  \n",
              "23468   94       98           L  0.611981          -4  \n",
              "23469   90       83           W  0.793150           7  \n",
              "23470  101       94           W  0.692980           7  \n",
              "23471   87       93           L  0.361233          -6  \n",
              "23472  101       98           W  0.526056           3  "
            ]
          },
          "metadata": {
            "tags": []
          }
        }
      ]
    },
    {
      "cell_type": "markdown",
      "metadata": {
        "id": "vjOz-U6P-hie"
      },
      "source": [
        "### Analyzing reationships between Quant and Categorical"
      ]
    },
    {
      "cell_type": "code",
      "metadata": {
        "id": "XnTENVrB-hig",
        "outputId": "4cad0cab-17cc-4d19-d5cc-1520f10cca49"
      },
      "source": [
        "\n",
        "knicks_pts = nba_2010.pts[nba_2010.fran_id == 'Knicks']\n",
        "nets_pts = nba_2010.pts[nba_2010.fran_id == 'Nets']\n",
        "\n",
        "diff_means_2010 = abs(np.mean(knicks_pts) - np.mean(nets_pts))\n",
        "print('mean difference in the knicks points and the nets points in 2010:',diff_means_2010)\n",
        "\n",
        "plt.hist(knicks_pts, color = 'blue', alpha = 0.5, density = True, label = 'knicks points')\n",
        "plt.hist(nets_pts, color = 'red', alpha = 0.5, density = True, label = 'nets points')\n",
        "plt.xlabel('points')\n",
        "plt.legend()\n",
        "plt.show()\n",
        "\n",
        "knicks_pts = nba_2014.pts[nba_2014.fran_id == 'Knicks']\n",
        "nets_pts = nba_2014.pts[nba_2014.fran_id == 'Nets']\n",
        "\n",
        "diff_means_2014 = abs(np.mean(knicks_pts) - np.mean(nets_pts))\n",
        "print('mean difference in the knicks points and the nets points in 2014:',diff_means_2014)\n",
        "\n",
        "plt.clf()\n",
        "plt.hist(knicks_pts, color = 'blue', alpha = 0.5, density = True, label = 'knicks points')\n",
        "plt.hist(nets_pts, color = 'red', alpha = 0.5, density = True, label = 'nets points')\n",
        "plt.xlabel('points')\n",
        "plt.legend()\n",
        "plt.show()\n",
        "\n",
        "plt.clf()\n",
        "sns.boxplot(data = nba_2010, x = 'fran_id', y = 'pts')\n",
        "plt.show()"
      ],
      "execution_count": null,
      "outputs": [
        {
          "output_type": "stream",
          "text": [
            "mean difference in the knicks points and the nets points in 2010: 9.731707317073173\n"
          ],
          "name": "stdout"
        },
        {
          "output_type": "display_data",
          "data": {
            "image/png": "[encoded data removed]",
            "text/plain": [
              "<Figure size 432x288 with 1 Axes>"
            ]
          },
          "metadata": {
            "tags": [],
            "needs_background": "light"
          }
        },
        {
          "output_type": "stream",
          "text": [
            "mean difference in the knicks points and the nets points in 2014: 0.44706798131809933\n"
          ],
          "name": "stdout"
        },
        {
          "output_type": "display_data",
          "data": {
            "image/png": "[encoded data removed]",
            "text/plain": [
              "<Figure size 432x288 with 1 Axes>"
            ]
          },
          "metadata": {
            "tags": [],
            "needs_background": "light"
          }
        },
        {
          "output_type": "display_data",
          "data": {
            "image/png": "[encoded data removed]",
            "text/plain": [
              "<Figure size 432x288 with 1 Axes>"
            ]
          },
          "metadata": {
            "tags": [],
            "needs_background": "light"
          }
        }
      ]
    },
    {
      "cell_type": "markdown",
      "metadata": {
        "id": "Zk14q1Dy-hij"
      },
      "source": [
        "#### Inference\n",
        "we see a mean difference between the knicks and nets of about 10 points in the year 2010 which tells us that theres a significant association between the points of both teams and as of 2014, the mean differnece dropped to less than 1 which tells us that there was less of an association. The histogram further goes to show us the significance of association in both years "
      ]
    },
    {
      "cell_type": "markdown",
      "metadata": {
        "id": "hQIO02Kf-hik"
      },
      "source": [
        "### Analyzing relationships between Categorical variables"
      ]
    },
    {
      "cell_type": "code",
      "metadata": {
        "id": "uJXIJx2c-hil",
        "outputId": "2701bae1-6234-4e97-bded-ab6e08bc4cab"
      },
      "source": [
        "\n",
        "location_result_freq = pd.crosstab(nba_2010.game_result, nba_2010.game_location)\n",
        "print('Frequncy of game location and result:',location_result_freq)\n",
        "\n",
        "location_result_proportions = location_result_freq/len(nba_2010)\n",
        "print('\\nProportion of game loaction and result:',location_result_proportions)\n",
        "\n",
        "chi2,pval,_,expected = chi2_contingency(location_result_freq)\n",
        "print('\\nexpected contingency table:', expected)\n",
        "print('\\nchi-square statistic:', chi2)\n",
        "print('\\np_value:',pval)\n",
        "print('This means theres a statistical significance between the game results and game location')"
      ],
      "execution_count": null,
      "outputs": [
        {
          "output_type": "stream",
          "text": [
            "Frequncy of game location and result: game_location    A    H\n",
            "game_result            \n",
            "L              133  105\n",
            "W               92  120\n",
            "\n",
            "Proportion of game loaction and result: game_location         A         H\n",
            "game_result                      \n",
            "L              0.295556  0.233333\n",
            "W              0.204444  0.266667\n",
            "\n",
            "expected contingency table: [[119. 119.]\n",
            " [106. 106.]]\n",
            "\n",
            "chi-square statistic: 6.501704455367053\n",
            "\n",
            "p_value: 0.010777112875193886\n",
            "This means theres a statistical significance between the game results and game location\n"
          ],
          "name": "stdout"
        }
      ]
    },
    {
      "cell_type": "markdown",
      "metadata": {
        "id": "QlWbnMtg-him"
      },
      "source": [
        "#### Inference\n",
        "From the table of proportion between game location and game result, we see that 30% of teams(Knicks and nets) who played away lost, their matches and 26% of teams who played at Home, won their matches. The p_value and chi-square statistic further goes to tell us that this occurance **did not** happen at random chance and is as a result of a statistical difference."
      ]
    },
    {
      "cell_type": "markdown",
      "metadata": {
        "id": "vLkawkfA-hin"
      },
      "source": [
        "### Analyzing Relationships Between Quantitative Variables"
      ]
    },
    {
      "cell_type": "code",
      "metadata": {
        "id": "S09-eK6u-hin",
        "outputId": "38d03e99-5d03-4c8b-bd96-a3526395b7da"
      },
      "source": [
        "\n",
        "covariance = np.cov(nba_2010.forecast, nba_2010.point_diff)\n",
        "print(covariance)\n",
        "cov = 1.37\n",
        "print('covariance:', cov)\n",
        "correlation, p = pearsonr(nba_2010.forecast, nba_2010.point_diff)\n",
        "print('correlation:', correlation)\n",
        "\n",
        "plt.clf()\n",
        "plt.scatter(nba_2010.forecast, nba_2010.point_diff)\n",
        "plt.xlabel('forecasted Win probability')\n",
        "plt.ylabel('point difference')\n",
        "plt.show()"
      ],
      "execution_count": null,
      "outputs": [
        {
          "output_type": "stream",
          "text": [
            "[[  0.05   1.37]\n",
            " [  1.37 186.56]]\n",
            "covariance: 1.37\n",
            "correlation: 0.4402088708468084\n"
          ],
          "name": "stdout"
        },
        {
          "output_type": "display_data",
          "data": {
            "image/png": "[encoded data removed]",
            "text/plain": [
              "<Figure size 432x288 with 1 Axes>"
            ]
          },
          "metadata": {
            "tags": [],
            "needs_background": "light"
          }
        }
      ]
    },
    {
      "cell_type": "markdown",
      "metadata": {
        "id": "sQP4FZmQ-hip"
      },
      "source": [
        "#### Inference\n",
        "The covariance between the forecasted win probability and the point difference is 1.37 and the correlation value is 0.44. which tells us that theres a slight linear correlation between both variables."
      ]
    }
  ]
}